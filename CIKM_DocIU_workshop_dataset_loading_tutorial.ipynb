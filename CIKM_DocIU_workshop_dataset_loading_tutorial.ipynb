{
  "nbformat": 4,
  "nbformat_minor": 0,
  "metadata": {
    "colab": {
      "provenance": [],
      "include_colab_link": true
    },
    "kernelspec": {
      "name": "python3",
      "display_name": "Python 3"
    },
    "language_info": {
      "name": "python"
    }
  },
  "cells": [
    {
      "cell_type": "markdown",
      "metadata": {
        "id": "view-in-github",
        "colab_type": "text"
      },
      "source": [
        "<a href=\"https://colab.research.google.com/github/kimdarwin/ule/blob/main/CIKM_DocIU_workshop_dataset_loading_tutorial.ipynb\" target=\"_parent\"><img src=\"https://colab.research.google.com/assets/colab-badge.svg\" alt=\"Open In Colab\"/></a>"
      ]
    },
    {
      "cell_type": "markdown",
      "source": [
        "## Introduction"
      ],
      "metadata": {
        "id": "GU_Jo3sb6HKu"
      }
    },
    {
      "cell_type": "markdown",
      "source": [
        "This tutorial aims to introduce the dataset format and structure of the PDFVQA competition which is the sub-activity of The first [Workshop on Document Intelligence and Understanding (DocIU)](https://doc-iu.github.io/) in conjunction with the **32nd ACM International Conference on Information and Knowledge Management (CIKM 2023)** in Birmingham, UK. Please go to the DocIU workshop website workshop website to get more detailed information.\n",
        "\n",
        "<img src=\"https://www.googleapis.com/download/storage/v1/b/kaggle-user-content/o/inbox%2F3738436%2F600acecdfc60ba5ef8ea05e6aea7dc7b%2Ftask_samples.png?generation=1690768397248148&alt=media\" width = \"400\" style=\"display: block; margin: 0 auto\" />\n"
      ],
      "metadata": {
        "id": "x0bCctlM6EMf"
      }
    },
    {
      "cell_type": "markdown",
      "source": [
        "## Dataset Loading\n",
        "\n",
        "Load the dataset from the google drive link (same as the dataset downloaded from kaggle competition). This dataset consists of three main splits: training, validation, and testing. The detailed dataset statistics of each data split can be found in below table. Please refer [PDFVQA paper](https://arxiv.org/abs/2304.06447) to get more helpful detailed information.\n",
        "\n",
        "<img src=\"https://www.googleapis.com/download/storage/v1/b/kaggle-user-content/o/inbox%2F3738436%2Fb2e3cfc548480b53b4ac174d00183524%2Fdataset_statistics.png?generation=1690700510714073&alt=media\" width = \"400\" style=\"display: block; margin: 0 auto\" />\n",
        "\n",
        "For each split, we provide two types of files:\n",
        "\n",
        "`CSV File`: This file contains questions and their corresponding ground truth answers. It is used specifically for training, allowing you to develop a model to predict answers based on the given questions accurately.\n",
        "\n",
        "`PKL File`: The pkl file is a valuable resource as it contains essential document information, including bounding box coordinates of each document layout component, textual contents inside each bounding box, and parent-child relationships (structural relationships between document components). This information is crucial for understanding the structure of the visually-rich documents and identifying relevant Regions of Interest (RoIs) that might contain the answers to the questions.\n",
        "\n",
        "\n"
      ],
      "metadata": {
        "id": "W5DX-cZrQqfB"
      }
    },
    {
      "cell_type": "code",
      "execution_count": null,
      "metadata": {
        "id": "kff1AmDQd7kT"
      },
      "outputs": [],
      "source": [
        "!pip install -U -q PyDrive\n",
        "from pydrive.auth import GoogleAuth\n",
        "from pydrive.drive import GoogleDrive\n",
        "from google.colab import auth\n",
        "from oauth2client.client import GoogleCredentials\n",
        "import pandas as pd\n",
        "\n",
        "# Authenticate\n",
        "drive = None\n",
        "def authenticate():\n",
        "  global drive\n",
        "\n",
        "  auth.authenticate_user()\n",
        "  gauth = GoogleAuth()\n",
        "  gauth.credentials = GoogleCredentials.get_application_default()\n",
        "  drive = GoogleDrive(gauth)\n",
        "\n",
        "#Download files\n",
        "def downloadFiles(fileIds):\n",
        "  authenticate()\n",
        "\n",
        "  for fileId in fileIds:\n",
        "\n",
        "    downloaded = drive.CreateFile({\"id\": fileId[1]})\n",
        "    downloaded.GetContentFile(fileId[0])"
      ]
    },
    {
      "cell_type": "code",
      "source": [
        "# Loading Training dataframe and pickle file\n",
        "try:\n",
        "  _ = open(\"train_dataframe.csv\", \"r\")\n",
        "except:\n",
        "  downloadFiles([[\"train_dataframe.csv\", \"1-hU0-rt31_ZUZcTRZ3tXuUL0d_L5ALQM\"]])\n",
        "\n",
        "try:\n",
        "  _ = open(\"train_doc_info.pkl\", \"r\")\n",
        "except:\n",
        "  downloadFiles([[\"train_doc_info.pkl\", \"1-AhYdD-FvbgfgGvMsi8u4eVlGi5Y2M7V\"]])\n",
        "\n",
        "# Loading Validation dataframe and pickle file\n",
        "try:\n",
        "  _ = open(\"val_dataframe.csv\", \"r\")\n",
        "except:\n",
        "  downloadFiles([[\"val_dataframe.csv\", \"1-xOr1-cCel-LPd75n5W68e_gptzFquWB\"]])\n",
        "\n",
        "try:\n",
        "  _ = open(\"val_doc_info.pkl\", \"r\")\n",
        "except:\n",
        "  downloadFiles([[\"val_doc_info.pkl\", \"1-az6pNeteeUaPlFCiEzkz73Z5G3rVG-m\"]])\n",
        "\n",
        "# Loading Testing dataframe and pickle file\n",
        "try:\n",
        "  _ = open(\"test_dataframe.csv\", \"r\")\n",
        "except:\n",
        "  downloadFiles([[\"test_dataframe.csv\", \"1-searmQar_snnf3Aiz5dEmUDKZDHQj_c\"]])\n",
        "\n",
        "try:\n",
        "  _ = open(\"test_doc_info.pkl\", \"r\")\n",
        "except:\n",
        "  downloadFiles([[\"test_doc_info.pkl\", \"1-2D0Bn23GGdD7bdq7jLE7uc8kC7EIThG\"]])"
      ],
      "metadata": {
        "id": "nViahUbn5vrp"
      },
      "execution_count": null,
      "outputs": []
    },
    {
      "cell_type": "markdown",
      "source": [
        "## Exploring Dataset Formats\n",
        "\n",
        "As mentioned in the kaggle dataset description, this dataset contains three dataset splits: training, validation and testing. For each data split, we provide a csv file containing document PMCID, natural language questions with question types. Notably, we only provide the ground truth answer with object id (unique **global_id**) for participants training and validating their models.\n"
      ],
      "metadata": {
        "id": "zGD-BkBaHpVl"
      }
    },
    {
      "cell_type": "code",
      "source": [
        "# Import essential\n",
        "import json, pickle\n",
        "import pandas as pd"
      ],
      "metadata": {
        "id": "pu_ONN79CE6d"
      },
      "execution_count": null,
      "outputs": []
    },
    {
      "cell_type": "markdown",
      "source": [
        "### CSV file exploring\n",
        "Let's load the training dataframe to check the column names."
      ],
      "metadata": {
        "id": "jpX9mpHWLjul"
      }
    },
    {
      "cell_type": "code",
      "source": [
        "train_df = pd.read_csv('train_dataframe.csv')\n",
        "train_df.head(5)"
      ],
      "metadata": {
        "colab": {
          "base_uri": "https://localhost:8080/",
          "height": 206
        },
        "id": "GIUTkWIILiiD",
        "outputId": "e0b671dd-0b36-4fb2-dd2b-1bdb74a15837"
      },
      "execution_count": null,
      "outputs": [
        {
          "output_type": "execute_result",
          "data": {
            "text/plain": [
              "   Unnamed: 0     pmcid                                           question  \\\n",
              "0           0  27923395      Name out the section that include the Fig. 2.   \n",
              "1           1  27923395  When you search for the description of Fig. 3,...   \n",
              "2           2  27923395  Which section does include the description of ...   \n",
              "3           3  27923395                    Where can you find the Table 3?   \n",
              "4           4  27923395  Where is the 'Oka C et al,1995' cited in the d...   \n",
              "\n",
              "                                              answer  \\\n",
              "0  ['Expression of Ascl1 and neuronal markers in ...   \n",
              "1  ['Differential expression of proneural genes w...   \n",
              "2  ['Discussion', 'Results', 'Expression of neuro...   \n",
              "3  ['Differential expression of proneural genes w...   \n",
              "4  ['Expression of Ascl1 and neuronal markers in ...   \n",
              "\n",
              "                                  global_id                      question_type  \n",
              "0                          [243838, 243824]  parent_relationship_understanding  \n",
              "1  [243867, 243824, 243849, 243866, 243878]  parent_relationship_understanding  \n",
              "2  [243877, 243824, 243825, 243884, 243849]  parent_relationship_understanding  \n",
              "3                  [243867, 243849, 243824]  parent_relationship_understanding  \n",
              "4                          [243838, 243824]  parent_relationship_understanding  "
            ],
            "text/html": [
              "\n",
              "\n",
              "  <div id=\"df-f424e3f7-9508-4bf6-b12c-75734de99b75\">\n",
              "    <div class=\"colab-df-container\">\n",
              "      <div>\n",
              "<style scoped>\n",
              "    .dataframe tbody tr th:only-of-type {\n",
              "        vertical-align: middle;\n",
              "    }\n",
              "\n",
              "    .dataframe tbody tr th {\n",
              "        vertical-align: top;\n",
              "    }\n",
              "\n",
              "    .dataframe thead th {\n",
              "        text-align: right;\n",
              "    }\n",
              "</style>\n",
              "<table border=\"1\" class=\"dataframe\">\n",
              "  <thead>\n",
              "    <tr style=\"text-align: right;\">\n",
              "      <th></th>\n",
              "      <th>Unnamed: 0</th>\n",
              "      <th>pmcid</th>\n",
              "      <th>question</th>\n",
              "      <th>answer</th>\n",
              "      <th>global_id</th>\n",
              "      <th>question_type</th>\n",
              "    </tr>\n",
              "  </thead>\n",
              "  <tbody>\n",
              "    <tr>\n",
              "      <th>0</th>\n",
              "      <td>0</td>\n",
              "      <td>27923395</td>\n",
              "      <td>Name out the section that include the Fig. 2.</td>\n",
              "      <td>['Expression of Ascl1 and neuronal markers in ...</td>\n",
              "      <td>[243838, 243824]</td>\n",
              "      <td>parent_relationship_understanding</td>\n",
              "    </tr>\n",
              "    <tr>\n",
              "      <th>1</th>\n",
              "      <td>1</td>\n",
              "      <td>27923395</td>\n",
              "      <td>When you search for the description of Fig. 3,...</td>\n",
              "      <td>['Differential expression of proneural genes w...</td>\n",
              "      <td>[243867, 243824, 243849, 243866, 243878]</td>\n",
              "      <td>parent_relationship_understanding</td>\n",
              "    </tr>\n",
              "    <tr>\n",
              "      <th>2</th>\n",
              "      <td>2</td>\n",
              "      <td>27923395</td>\n",
              "      <td>Which section does include the description of ...</td>\n",
              "      <td>['Discussion', 'Results', 'Expression of neuro...</td>\n",
              "      <td>[243877, 243824, 243825, 243884, 243849]</td>\n",
              "      <td>parent_relationship_understanding</td>\n",
              "    </tr>\n",
              "    <tr>\n",
              "      <th>3</th>\n",
              "      <td>3</td>\n",
              "      <td>27923395</td>\n",
              "      <td>Where can you find the Table 3?</td>\n",
              "      <td>['Differential expression of proneural genes w...</td>\n",
              "      <td>[243867, 243849, 243824]</td>\n",
              "      <td>parent_relationship_understanding</td>\n",
              "    </tr>\n",
              "    <tr>\n",
              "      <th>4</th>\n",
              "      <td>4</td>\n",
              "      <td>27923395</td>\n",
              "      <td>Where is the 'Oka C et al,1995' cited in the d...</td>\n",
              "      <td>['Expression of Ascl1 and neuronal markers in ...</td>\n",
              "      <td>[243838, 243824]</td>\n",
              "      <td>parent_relationship_understanding</td>\n",
              "    </tr>\n",
              "  </tbody>\n",
              "</table>\n",
              "</div>\n",
              "      <button class=\"colab-df-convert\" onclick=\"convertToInteractive('df-f424e3f7-9508-4bf6-b12c-75734de99b75')\"\n",
              "              title=\"Convert this dataframe to an interactive table.\"\n",
              "              style=\"display:none;\">\n",
              "\n",
              "  <svg xmlns=\"http://www.w3.org/2000/svg\" height=\"24px\"viewBox=\"0 0 24 24\"\n",
              "       width=\"24px\">\n",
              "    <path d=\"M0 0h24v24H0V0z\" fill=\"none\"/>\n",
              "    <path d=\"M18.56 5.44l.94 2.06.94-2.06 2.06-.94-2.06-.94-.94-2.06-.94 2.06-2.06.94zm-11 1L8.5 8.5l.94-2.06 2.06-.94-2.06-.94L8.5 2.5l-.94 2.06-2.06.94zm10 10l.94 2.06.94-2.06 2.06-.94-2.06-.94-.94-2.06-.94 2.06-2.06.94z\"/><path d=\"M17.41 7.96l-1.37-1.37c-.4-.4-.92-.59-1.43-.59-.52 0-1.04.2-1.43.59L10.3 9.45l-7.72 7.72c-.78.78-.78 2.05 0 2.83L4 21.41c.39.39.9.59 1.41.59.51 0 1.02-.2 1.41-.59l7.78-7.78 2.81-2.81c.8-.78.8-2.07 0-2.86zM5.41 20L4 18.59l7.72-7.72 1.47 1.35L5.41 20z\"/>\n",
              "  </svg>\n",
              "      </button>\n",
              "\n",
              "\n",
              "\n",
              "    <div id=\"df-641f5d72-ac94-461a-a174-79ea9da75fb8\">\n",
              "      <button class=\"colab-df-quickchart\" onclick=\"quickchart('df-641f5d72-ac94-461a-a174-79ea9da75fb8')\"\n",
              "              title=\"Suggest charts.\"\n",
              "              style=\"display:none;\">\n",
              "\n",
              "<svg xmlns=\"http://www.w3.org/2000/svg\" height=\"24px\"viewBox=\"0 0 24 24\"\n",
              "     width=\"24px\">\n",
              "    <g>\n",
              "        <path d=\"M19 3H5c-1.1 0-2 .9-2 2v14c0 1.1.9 2 2 2h14c1.1 0 2-.9 2-2V5c0-1.1-.9-2-2-2zM9 17H7v-7h2v7zm4 0h-2V7h2v10zm4 0h-2v-4h2v4z\"/>\n",
              "    </g>\n",
              "</svg>\n",
              "      </button>\n",
              "    </div>\n",
              "\n",
              "<style>\n",
              "  .colab-df-quickchart {\n",
              "    background-color: #E8F0FE;\n",
              "    border: none;\n",
              "    border-radius: 50%;\n",
              "    cursor: pointer;\n",
              "    display: none;\n",
              "    fill: #1967D2;\n",
              "    height: 32px;\n",
              "    padding: 0 0 0 0;\n",
              "    width: 32px;\n",
              "  }\n",
              "\n",
              "  .colab-df-quickchart:hover {\n",
              "    background-color: #E2EBFA;\n",
              "    box-shadow: 0px 1px 2px rgba(60, 64, 67, 0.3), 0px 1px 3px 1px rgba(60, 64, 67, 0.15);\n",
              "    fill: #174EA6;\n",
              "  }\n",
              "\n",
              "  [theme=dark] .colab-df-quickchart {\n",
              "    background-color: #3B4455;\n",
              "    fill: #D2E3FC;\n",
              "  }\n",
              "\n",
              "  [theme=dark] .colab-df-quickchart:hover {\n",
              "    background-color: #434B5C;\n",
              "    box-shadow: 0px 1px 3px 1px rgba(0, 0, 0, 0.15);\n",
              "    filter: drop-shadow(0px 1px 2px rgba(0, 0, 0, 0.3));\n",
              "    fill: #FFFFFF;\n",
              "  }\n",
              "</style>\n",
              "\n",
              "    <script>\n",
              "      async function quickchart(key) {\n",
              "        const containerElement = document.querySelector('#' + key);\n",
              "        const charts = await google.colab.kernel.invokeFunction(\n",
              "            'suggestCharts', [key], {});\n",
              "      }\n",
              "    </script>\n",
              "\n",
              "      <script>\n",
              "\n",
              "function displayQuickchartButton(domScope) {\n",
              "  let quickchartButtonEl =\n",
              "    domScope.querySelector('#df-641f5d72-ac94-461a-a174-79ea9da75fb8 button.colab-df-quickchart');\n",
              "  quickchartButtonEl.style.display =\n",
              "    google.colab.kernel.accessAllowed ? 'block' : 'none';\n",
              "}\n",
              "\n",
              "        displayQuickchartButton(document);\n",
              "      </script>\n",
              "      <style>\n",
              "    .colab-df-container {\n",
              "      display:flex;\n",
              "      flex-wrap:wrap;\n",
              "      gap: 12px;\n",
              "    }\n",
              "\n",
              "    .colab-df-convert {\n",
              "      background-color: #E8F0FE;\n",
              "      border: none;\n",
              "      border-radius: 50%;\n",
              "      cursor: pointer;\n",
              "      display: none;\n",
              "      fill: #1967D2;\n",
              "      height: 32px;\n",
              "      padding: 0 0 0 0;\n",
              "      width: 32px;\n",
              "    }\n",
              "\n",
              "    .colab-df-convert:hover {\n",
              "      background-color: #E2EBFA;\n",
              "      box-shadow: 0px 1px 2px rgba(60, 64, 67, 0.3), 0px 1px 3px 1px rgba(60, 64, 67, 0.15);\n",
              "      fill: #174EA6;\n",
              "    }\n",
              "\n",
              "    [theme=dark] .colab-df-convert {\n",
              "      background-color: #3B4455;\n",
              "      fill: #D2E3FC;\n",
              "    }\n",
              "\n",
              "    [theme=dark] .colab-df-convert:hover {\n",
              "      background-color: #434B5C;\n",
              "      box-shadow: 0px 1px 3px 1px rgba(0, 0, 0, 0.15);\n",
              "      filter: drop-shadow(0px 1px 2px rgba(0, 0, 0, 0.3));\n",
              "      fill: #FFFFFF;\n",
              "    }\n",
              "  </style>\n",
              "\n",
              "      <script>\n",
              "        const buttonEl =\n",
              "          document.querySelector('#df-f424e3f7-9508-4bf6-b12c-75734de99b75 button.colab-df-convert');\n",
              "        buttonEl.style.display =\n",
              "          google.colab.kernel.accessAllowed ? 'block' : 'none';\n",
              "\n",
              "        async function convertToInteractive(key) {\n",
              "          const element = document.querySelector('#df-f424e3f7-9508-4bf6-b12c-75734de99b75');\n",
              "          const dataTable =\n",
              "            await google.colab.kernel.invokeFunction('convertToInteractive',\n",
              "                                                     [key], {});\n",
              "          if (!dataTable) return;\n",
              "\n",
              "          const docLinkHtml = 'Like what you see? Visit the ' +\n",
              "            '<a target=\"_blank\" href=https://colab.research.google.com/notebooks/data_table.ipynb>data table notebook</a>'\n",
              "            + ' to learn more about interactive tables.';\n",
              "          element.innerHTML = '';\n",
              "          dataTable['output_type'] = 'display_data';\n",
              "          await google.colab.output.renderOutput(dataTable, element);\n",
              "          const docLink = document.createElement('div');\n",
              "          docLink.innerHTML = docLinkHtml;\n",
              "          element.appendChild(docLink);\n",
              "        }\n",
              "      </script>\n",
              "    </div>\n",
              "  </div>\n"
            ]
          },
          "metadata": {},
          "execution_count": 4
        }
      ]
    },
    {
      "cell_type": "markdown",
      "source": [
        "From above samples, the train dataframe mainly contain five columns.\n",
        "\n",
        "\n",
        "Based on the information provided, the train dataframe contains five columns:\n",
        "\n",
        "1. `pmcid`: This column likely contains identifiers or references to locate the 'train_doc_info.pkl' file. The purpose of this column could be to access the input RoI (Region of Interest) information required for developing the model.\n",
        "\n",
        "2. `question`: This column contains the text of natural language questions that are used as input for the model.\n",
        "\n",
        "3. `question_type`: This column contains the types of questions. The two types mentioned are \"parent-relationship understanding\" and \"child-relationship understanding.\"\n",
        "\n",
        "4. `answer` (training only): This column is present only in the training dataset. It stores the answer text contents that correspond to the questions in the `question` column.\n",
        "\n",
        "5. `global_id` (training only): This column is present only in the training dataset. It contains global identifiers or references that help locate the answer Region of Interests (RoIs) associated with each question.\n",
        "\n",
        "These columns are likely used for training and developing a model for question-answering tasks, where the model is trained to answer questions based on the provided input RoIs and question types.\n"
      ],
      "metadata": {
        "id": "-A3DJfwAL3xx"
      }
    },
    {
      "cell_type": "code",
      "source": [
        "train_df.head(1)"
      ],
      "metadata": {
        "colab": {
          "base_uri": "https://localhost:8080/",
          "height": 81
        },
        "id": "eCvBKNu2OtWP",
        "outputId": "060c31f2-4a9b-4458-e41e-2fc7c637ca69"
      },
      "execution_count": null,
      "outputs": [
        {
          "output_type": "execute_result",
          "data": {
            "text/plain": [
              "   Unnamed: 0     pmcid                                       question  \\\n",
              "0           0  27923395  Name out the section that include the Fig. 2.   \n",
              "\n",
              "                                              answer         global_id  \\\n",
              "0  ['Expression of Ascl1 and neuronal markers in ...  [243838, 243824]   \n",
              "\n",
              "                       question_type  \n",
              "0  parent_relationship_understanding  "
            ],
            "text/html": [
              "\n",
              "\n",
              "  <div id=\"df-8e6a0486-824c-44e0-a425-176277921b59\">\n",
              "    <div class=\"colab-df-container\">\n",
              "      <div>\n",
              "<style scoped>\n",
              "    .dataframe tbody tr th:only-of-type {\n",
              "        vertical-align: middle;\n",
              "    }\n",
              "\n",
              "    .dataframe tbody tr th {\n",
              "        vertical-align: top;\n",
              "    }\n",
              "\n",
              "    .dataframe thead th {\n",
              "        text-align: right;\n",
              "    }\n",
              "</style>\n",
              "<table border=\"1\" class=\"dataframe\">\n",
              "  <thead>\n",
              "    <tr style=\"text-align: right;\">\n",
              "      <th></th>\n",
              "      <th>Unnamed: 0</th>\n",
              "      <th>pmcid</th>\n",
              "      <th>question</th>\n",
              "      <th>answer</th>\n",
              "      <th>global_id</th>\n",
              "      <th>question_type</th>\n",
              "    </tr>\n",
              "  </thead>\n",
              "  <tbody>\n",
              "    <tr>\n",
              "      <th>0</th>\n",
              "      <td>0</td>\n",
              "      <td>27923395</td>\n",
              "      <td>Name out the section that include the Fig. 2.</td>\n",
              "      <td>['Expression of Ascl1 and neuronal markers in ...</td>\n",
              "      <td>[243838, 243824]</td>\n",
              "      <td>parent_relationship_understanding</td>\n",
              "    </tr>\n",
              "  </tbody>\n",
              "</table>\n",
              "</div>\n",
              "      <button class=\"colab-df-convert\" onclick=\"convertToInteractive('df-8e6a0486-824c-44e0-a425-176277921b59')\"\n",
              "              title=\"Convert this dataframe to an interactive table.\"\n",
              "              style=\"display:none;\">\n",
              "\n",
              "  <svg xmlns=\"http://www.w3.org/2000/svg\" height=\"24px\"viewBox=\"0 0 24 24\"\n",
              "       width=\"24px\">\n",
              "    <path d=\"M0 0h24v24H0V0z\" fill=\"none\"/>\n",
              "    <path d=\"M18.56 5.44l.94 2.06.94-2.06 2.06-.94-2.06-.94-.94-2.06-.94 2.06-2.06.94zm-11 1L8.5 8.5l.94-2.06 2.06-.94-2.06-.94L8.5 2.5l-.94 2.06-2.06.94zm10 10l.94 2.06.94-2.06 2.06-.94-2.06-.94-.94-2.06-.94 2.06-2.06.94z\"/><path d=\"M17.41 7.96l-1.37-1.37c-.4-.4-.92-.59-1.43-.59-.52 0-1.04.2-1.43.59L10.3 9.45l-7.72 7.72c-.78.78-.78 2.05 0 2.83L4 21.41c.39.39.9.59 1.41.59.51 0 1.02-.2 1.41-.59l7.78-7.78 2.81-2.81c.8-.78.8-2.07 0-2.86zM5.41 20L4 18.59l7.72-7.72 1.47 1.35L5.41 20z\"/>\n",
              "  </svg>\n",
              "      </button>\n",
              "\n",
              "\n",
              "\n",
              "    <div id=\"df-74b89434-f58a-4d23-90c8-905f6c7a3f43\">\n",
              "      <button class=\"colab-df-quickchart\" onclick=\"quickchart('df-74b89434-f58a-4d23-90c8-905f6c7a3f43')\"\n",
              "              title=\"Suggest charts.\"\n",
              "              style=\"display:none;\">\n",
              "\n",
              "<svg xmlns=\"http://www.w3.org/2000/svg\" height=\"24px\"viewBox=\"0 0 24 24\"\n",
              "     width=\"24px\">\n",
              "    <g>\n",
              "        <path d=\"M19 3H5c-1.1 0-2 .9-2 2v14c0 1.1.9 2 2 2h14c1.1 0 2-.9 2-2V5c0-1.1-.9-2-2-2zM9 17H7v-7h2v7zm4 0h-2V7h2v10zm4 0h-2v-4h2v4z\"/>\n",
              "    </g>\n",
              "</svg>\n",
              "      </button>\n",
              "    </div>\n",
              "\n",
              "<style>\n",
              "  .colab-df-quickchart {\n",
              "    background-color: #E8F0FE;\n",
              "    border: none;\n",
              "    border-radius: 50%;\n",
              "    cursor: pointer;\n",
              "    display: none;\n",
              "    fill: #1967D2;\n",
              "    height: 32px;\n",
              "    padding: 0 0 0 0;\n",
              "    width: 32px;\n",
              "  }\n",
              "\n",
              "  .colab-df-quickchart:hover {\n",
              "    background-color: #E2EBFA;\n",
              "    box-shadow: 0px 1px 2px rgba(60, 64, 67, 0.3), 0px 1px 3px 1px rgba(60, 64, 67, 0.15);\n",
              "    fill: #174EA6;\n",
              "  }\n",
              "\n",
              "  [theme=dark] .colab-df-quickchart {\n",
              "    background-color: #3B4455;\n",
              "    fill: #D2E3FC;\n",
              "  }\n",
              "\n",
              "  [theme=dark] .colab-df-quickchart:hover {\n",
              "    background-color: #434B5C;\n",
              "    box-shadow: 0px 1px 3px 1px rgba(0, 0, 0, 0.15);\n",
              "    filter: drop-shadow(0px 1px 2px rgba(0, 0, 0, 0.3));\n",
              "    fill: #FFFFFF;\n",
              "  }\n",
              "</style>\n",
              "\n",
              "    <script>\n",
              "      async function quickchart(key) {\n",
              "        const containerElement = document.querySelector('#' + key);\n",
              "        const charts = await google.colab.kernel.invokeFunction(\n",
              "            'suggestCharts', [key], {});\n",
              "      }\n",
              "    </script>\n",
              "\n",
              "      <script>\n",
              "\n",
              "function displayQuickchartButton(domScope) {\n",
              "  let quickchartButtonEl =\n",
              "    domScope.querySelector('#df-74b89434-f58a-4d23-90c8-905f6c7a3f43 button.colab-df-quickchart');\n",
              "  quickchartButtonEl.style.display =\n",
              "    google.colab.kernel.accessAllowed ? 'block' : 'none';\n",
              "}\n",
              "\n",
              "        displayQuickchartButton(document);\n",
              "      </script>\n",
              "      <style>\n",
              "    .colab-df-container {\n",
              "      display:flex;\n",
              "      flex-wrap:wrap;\n",
              "      gap: 12px;\n",
              "    }\n",
              "\n",
              "    .colab-df-convert {\n",
              "      background-color: #E8F0FE;\n",
              "      border: none;\n",
              "      border-radius: 50%;\n",
              "      cursor: pointer;\n",
              "      display: none;\n",
              "      fill: #1967D2;\n",
              "      height: 32px;\n",
              "      padding: 0 0 0 0;\n",
              "      width: 32px;\n",
              "    }\n",
              "\n",
              "    .colab-df-convert:hover {\n",
              "      background-color: #E2EBFA;\n",
              "      box-shadow: 0px 1px 2px rgba(60, 64, 67, 0.3), 0px 1px 3px 1px rgba(60, 64, 67, 0.15);\n",
              "      fill: #174EA6;\n",
              "    }\n",
              "\n",
              "    [theme=dark] .colab-df-convert {\n",
              "      background-color: #3B4455;\n",
              "      fill: #D2E3FC;\n",
              "    }\n",
              "\n",
              "    [theme=dark] .colab-df-convert:hover {\n",
              "      background-color: #434B5C;\n",
              "      box-shadow: 0px 1px 3px 1px rgba(0, 0, 0, 0.15);\n",
              "      filter: drop-shadow(0px 1px 2px rgba(0, 0, 0, 0.3));\n",
              "      fill: #FFFFFF;\n",
              "    }\n",
              "  </style>\n",
              "\n",
              "      <script>\n",
              "        const buttonEl =\n",
              "          document.querySelector('#df-8e6a0486-824c-44e0-a425-176277921b59 button.colab-df-convert');\n",
              "        buttonEl.style.display =\n",
              "          google.colab.kernel.accessAllowed ? 'block' : 'none';\n",
              "\n",
              "        async function convertToInteractive(key) {\n",
              "          const element = document.querySelector('#df-8e6a0486-824c-44e0-a425-176277921b59');\n",
              "          const dataTable =\n",
              "            await google.colab.kernel.invokeFunction('convertToInteractive',\n",
              "                                                     [key], {});\n",
              "          if (!dataTable) return;\n",
              "\n",
              "          const docLinkHtml = 'Like what you see? Visit the ' +\n",
              "            '<a target=\"_blank\" href=https://colab.research.google.com/notebooks/data_table.ipynb>data table notebook</a>'\n",
              "            + ' to learn more about interactive tables.';\n",
              "          element.innerHTML = '';\n",
              "          dataTable['output_type'] = 'display_data';\n",
              "          await google.colab.output.renderOutput(dataTable, element);\n",
              "          const docLink = document.createElement('div');\n",
              "          docLink.innerHTML = docLinkHtml;\n",
              "          element.appendChild(docLink);\n",
              "        }\n",
              "      </script>\n",
              "    </div>\n",
              "  </div>\n"
            ]
          },
          "metadata": {},
          "execution_count": 5
        }
      ]
    },
    {
      "cell_type": "code",
      "source": [
        "# Get the attributes of a specific row\n",
        "pmcid = train_df.loc[1, \"pmcid\"]\n",
        "print('\"pmcid\": {}'.format(pmcid))\n",
        "question = train_df.loc[0, \"question\"]\n",
        "print('\"question\": {}'.format(question))\n",
        "question_type = train_df.loc[0, \"question_type\"]\n",
        "print('\"question_type\": {}'.format(question_type))\n",
        "answer = train_df.loc[0, \"answer\"]\n",
        "print('\"answer\": {}'.format(answer))\n",
        "global_id = train_df.loc[0, \"global_id\"]\n",
        "print('\"global_id\": {}'.format(global_id))"
      ],
      "metadata": {
        "colab": {
          "base_uri": "https://localhost:8080/"
        },
        "id": "jyoZlpLWLzA8",
        "outputId": "06f8f675-bf0a-4d64-de5c-67fb5efd6d02"
      },
      "execution_count": null,
      "outputs": [
        {
          "output_type": "stream",
          "name": "stdout",
          "text": [
            "\"pmcid\": 27923395\n",
            "\"question\": Name out the section that include the Fig. 2.\n",
            "\"question_type\": parent_relationship_understanding\n",
            "\"answer\": ['Expression of Ascl1 and neuronal markers in the early neuronal populations in the brain was regulated by Notch signalling in mouse', 'Results']\n",
            "\"global_id\": [243838, 243824]\n"
          ]
        }
      ]
    },
    {
      "cell_type": "markdown",
      "source": [
        "### PKL file exploring\n",
        "Let's loading the train_doc_info.pkl file to check what kind of information can be used for developing your solution."
      ],
      "metadata": {
        "id": "RLmCoshATQq3"
      }
    },
    {
      "cell_type": "code",
      "source": [
        "with open('train_doc_info.pkl','rb') as f:\n",
        "  train_doc_info = pickle.load(f)"
      ],
      "metadata": {
        "id": "A8taZvzwSE_k"
      },
      "execution_count": null,
      "outputs": []
    },
    {
      "cell_type": "markdown",
      "source": [
        "Next, we load the 'train_doc_info.pkl' file to access the dictionary containing RoI information for model development. By utilizing the unique pmcid (e.g., 27923395), we can easily retrieve specific details from the targeting document, such as its content.\n"
      ],
      "metadata": {
        "id": "JTwnEGzET1Tg"
      }
    },
    {
      "cell_type": "code",
      "source": [
        "print(train_doc_info['27923395'].keys())\n",
        "print(train_doc_info['27923395']['pages'].keys())\n",
        "print(train_doc_info['27923395']['pages'][0].keys())"
      ],
      "metadata": {
        "colab": {
          "base_uri": "https://localhost:8080/"
        },
        "id": "uzA5dRe-TnO6",
        "outputId": "ef049a52-5de1-4271-9ac7-e6b64be8c1df"
      },
      "execution_count": null,
      "outputs": [
        {
          "output_type": "stream",
          "name": "stdout",
          "text": [
            "dict_keys(['pages'])\n",
            "dict_keys([0, 1, 2, 3, 4, 5, 6, 7, 8, 9, 10, 11, 12, 13, 14])\n",
            "dict_keys(['name', 'height', 'width', 'objects', 'ordered_box', 'ordered_id', 'ordered_label'])\n"
          ]
        }
      ]
    },
    {
      "cell_type": "markdown",
      "source": [
        "The train dataframe includes the following important columns:\n",
        "\n",
        "- `name`: This key represents the name of the document image page.\n",
        "- `height/width`: These keys contain the height and width of the current document image, providing information about its size.\n",
        "- `objects`: This key holds comprehensive information about the different components (Regions of Interest - RoIs) present in the document layout. Each object is described with multiple aspects.\n",
        "- `ordered_box`, `ordered_id`, `ordered_label`: These keys store the RoIs that have been re-ordered based on the human reading order. The reading order ID is assigned to each object on the document page, following the methodology presented in the [V-Doc paper (CVPR 2022)](https://openaccess.thecvf.com/content/CVPR2022/html/Ding_V-Doc_Visual_Questions_Answers_With_Documents_CVPR_2022_paper.html). The re-ordering ensures that the RoIs are arranged in a manner that facilitates the model in learning proper context representation.\n",
        "\n",
        "These columns collectively contribute to the effective training and representation learning for the model, particularly in visual question-answering tasks involving documents."
      ],
      "metadata": {
        "id": "fzi9m5Qi93sY"
      }
    },
    {
      "cell_type": "markdown",
      "source": [
        "Additionally, getting into the \"objects\" key, we can check the information provided for each layout component detected by Mask-RCNN."
      ],
      "metadata": {
        "id": "PzOwsSGobJl0"
      }
    },
    {
      "cell_type": "code",
      "source": [
        "print(train_doc_info['27923395']['pages'][0]['objects']['0'].keys())"
      ],
      "metadata": {
        "id": "knV8E9aRUseV",
        "colab": {
          "base_uri": "https://localhost:8080/"
        },
        "outputId": "6c649519-34e5-4600-e30a-584ab5fa4d6d"
      },
      "execution_count": null,
      "outputs": [
        {
          "output_type": "stream",
          "name": "stdout",
          "text": [
            "dict_keys(['bbox', 'category_id', 'score', 'name', 'id', 'gap', 'relations', 'global_id', 'text', 'near_gap'])\n"
          ]
        }
      ]
    },
    {
      "cell_type": "markdown",
      "source": [
        "As we can see above, each layout component we provided a set of attributes including:\n",
        "\n",
        "- `bbox`: bounding box coordinates of the layout component\n",
        "\n",
        "- `category_id`: category id of the component. There are seven category types provided.\n",
        "\n",
        "- `name`: document image name matched with image name in the corresponding image folders.\n",
        "\n",
        "- `id`: local object id in this document page. Note, the local id is randomly assigned. If you want to use proper reading order sequence input, you need to use the reading order information provided above or find another replacement way.\n",
        "\n",
        "- `gap`: represents the gap distance between this component to others in this document page.\n",
        "\n",
        "- `relations`: shows the parent-child relation between components.\n",
        "\n",
        "- `global_id`: shows the global id of each object which is aligned with the CSV file. **Participant can use this ID to locate the answers of each question.**\n",
        "\n",
        "- `text`: this key gives the text content of each layout component.\n"
      ],
      "metadata": {
        "id": "J2oiRd4Z_0i3"
      }
    },
    {
      "cell_type": "code",
      "source": [
        "print(train_doc_info['27923395']['pages'][0]['objects']['0']['bbox'])"
      ],
      "metadata": {
        "colab": {
          "base_uri": "https://localhost:8080/"
        },
        "id": "OAAGo2Jn_vmU",
        "outputId": "baba6e2c-94a5-42a9-e0f0-1076fa8234f6"
      },
      "execution_count": null,
      "outputs": [
        {
          "output_type": "stream",
          "name": "stdout",
          "text": [
            "[304.7059326171875, 449.4801025390625, 234.154052734375, 252.0694580078125]\n"
          ]
        }
      ]
    },
    {
      "cell_type": "code",
      "source": [
        "print(train_doc_info['27923395']['pages'][0]['objects']['0']['category_id'])"
      ],
      "metadata": {
        "colab": {
          "base_uri": "https://localhost:8080/"
        },
        "id": "rYWioVlBBCeB",
        "outputId": "01c48d8f-0efe-4c53-eb90-84c4101097d8"
      },
      "execution_count": null,
      "outputs": [
        {
          "output_type": "stream",
          "name": "stdout",
          "text": [
            "1\n"
          ]
        }
      ]
    },
    {
      "cell_type": "code",
      "source": [
        "print(train_doc_info['27923395']['pages'][0]['objects']['0']['gap'])"
      ],
      "metadata": {
        "colab": {
          "base_uri": "https://localhost:8080/"
        },
        "id": "1L1bsUKBBKLQ",
        "outputId": "1d879e33-b5e7-47d3-f2f3-2de8f34bde8c"
      },
      "execution_count": null,
      "outputs": [
        {
          "output_type": "stream",
          "name": "stdout",
          "text": [
            "{'1': 14.063140869140625, '2': 126.1593017578125, '3': 1.287261962890625, '4': 60.6949462890625, '5': 88.15640258789062, '6': 43.418426513671875, '7': 231.18887329101562, '8': 344.1037902832031, '9': 252.55052185058594, '10': 304.53655405685475, '11': 340.26596525030857}\n"
          ]
        }
      ]
    },
    {
      "cell_type": "code",
      "source": [
        "print(train_doc_info['27923395']['pages'][0]['objects']['0']['relations'])"
      ],
      "metadata": {
        "colab": {
          "base_uri": "https://localhost:8080/"
        },
        "id": "t1VX8Q2DBQlt",
        "outputId": "518f50b7-e532-49c5-d5f1-e513215d346f"
      },
      "execution_count": null,
      "outputs": [
        {
          "output_type": "stream",
          "name": "stdout",
          "text": [
            "[['child', '10']]\n"
          ]
        }
      ]
    },
    {
      "cell_type": "code",
      "source": [
        "print(train_doc_info['27923395']['pages'][0]['objects']['0']['global_id'])"
      ],
      "metadata": {
        "colab": {
          "base_uri": "https://localhost:8080/"
        },
        "id": "9a_KaI-KBT_G",
        "outputId": "2462c6b6-77c1-49f7-fe61-1e223d5349f7"
      },
      "execution_count": null,
      "outputs": [
        {
          "output_type": "stream",
          "name": "stdout",
          "text": [
            "243796\n"
          ]
        }
      ]
    },
    {
      "cell_type": "code",
      "source": [
        "print(train_doc_info['27923395']['pages'][0]['objects']['0']['text'])"
      ],
      "metadata": {
        "colab": {
          "base_uri": "https://localhost:8080/"
        },
        "id": "hPf5UwixBY-H",
        "outputId": "c85b566f-8ba3-4ae8-e91c-bae2a3975aca"
      },
      "execution_count": null,
      "outputs": [
        {
          "output_type": "stream",
          "name": "stdout",
          "text": [
            "In all neuronal tissue, expression of specific neuronal\n",
            "transcription factors needs to be tightly controlled to\n",
            "ensure the correct patterning of neuronal populations\n",
            "both temporally and spatially [3]. This patterning is\n",
            "regulated in part by the Notch signalling pathway,\n",
            "which has remained highly conserved throughout verte-\n",
            "brate evolution. Lateral inhibition with feedback regula-\n",
            "tion allows Notch signalling to maintain the number of\n",
            "neural progenitor cells (NPCS) by controlling the num-\n",
            "ber of neighbouring cells that can exit the cell cycle\n",
            "and subsequently undergo neural differentiation [14).\n",
            "Cell cycle exit is controlled by a limited number of\n",
            "basic helix-loop-helix (BHLH) proneural genes that are\n",
            "both necessary and sufficient to activate neurogenesis\n",
            "[5, 28). Loss of function studies indicate that proneural\n",
            "transcription factors direct not only general aspects of\n",
            "neuronal differentiation, but also specific aspects of\n",
            "neuronal identity within NPCS (23, 39, 60). These pro-\n",
            "neural transcription factors include ASCLI and members\n",
            "of the Neurogenin family. In many neuronal tissues these\n",
            "proneural genes are expressed in complementary domains\n",
            "\n"
          ]
        }
      ]
    },
    {
      "cell_type": "markdown",
      "source": [
        "Absolutely, not all the information provided is necessary to build a question-answering model. When developing your framework, participants have the flexibility to select and utilize the most relevant information to suit the specific requirements."
      ],
      "metadata": {
        "id": "AGNXw3VODrJt"
      }
    }
  ]
}