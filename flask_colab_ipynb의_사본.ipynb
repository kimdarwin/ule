{
  "nbformat": 4,
  "nbformat_minor": 0,
  "metadata": {
    "colab": {
      "provenance": [],
      "include_colab_link": true
    },
    "kernelspec": {
      "name": "python3",
      "display_name": "Python 3"
    }
  },
  "cells": [
    {
      "cell_type": "markdown",
      "metadata": {
        "id": "view-in-github",
        "colab_type": "text"
      },
      "source": [
        "<a href=\"https://colab.research.google.com/github/kimdarwin/ule/blob/main/flask_colab_ipynb%EC%9D%98_%EC%82%AC%EB%B3%B8.ipynb\" target=\"_parent\"><img src=\"https://colab.research.google.com/assets/colab-badge.svg\" alt=\"Open In Colab\"/></a>"
      ]
    },
    {
      "cell_type": "markdown",
      "metadata": {
        "id": "_dPNjwSC_vaI"
      },
      "source": [
        "# **Install Required python library**"
      ]
    },
    {
      "cell_type": "code",
      "metadata": {
        "id": "1RLgb7uF_Cod",
        "colab": {
          "base_uri": "https://localhost:8080/"
        },
        "outputId": "f1f60881-b56c-44a5-ba44-4d2148c8d639"
      },
      "source": [
        "#!snap install ngrok\n",
        "#!pip install flask-ngrok\n",
        "#!curl -s https://ngrok-agent.s3.amazonaws.com/ngrok.asc | sudo tee /etc/apt/trusted.gpg.d/ngrok.asc >/dev/null && echo \"deb https://ngrok-agent.s3.amazonaws.com buster main\" | sudo tee /etc/apt/sources.list.d/ngrok.list && sudo apt update && sudo apt install ngrok\n",
        "!pip install flask-ngrok\n",
        "!pip install pyngrok==4.1.1\n",
        "!pip install flask"
      ],
      "execution_count": null,
      "outputs": [
        {
          "output_type": "stream",
          "name": "stdout",
          "text": [
            "Requirement already satisfied: flask-ngrok in /usr/local/lib/python3.10/dist-packages (0.0.25)\n",
            "Requirement already satisfied: Flask>=0.8 in /usr/local/lib/python3.10/dist-packages (from flask-ngrok) (2.2.5)\n",
            "Requirement already satisfied: requests in /usr/local/lib/python3.10/dist-packages (from flask-ngrok) (2.27.1)\n",
            "Requirement already satisfied: Werkzeug>=2.2.2 in /usr/local/lib/python3.10/dist-packages (from Flask>=0.8->flask-ngrok) (2.3.6)\n",
            "Requirement already satisfied: Jinja2>=3.0 in /usr/local/lib/python3.10/dist-packages (from Flask>=0.8->flask-ngrok) (3.1.2)\n",
            "Requirement already satisfied: itsdangerous>=2.0 in /usr/local/lib/python3.10/dist-packages (from Flask>=0.8->flask-ngrok) (2.1.2)\n",
            "Requirement already satisfied: click>=8.0 in /usr/local/lib/python3.10/dist-packages (from Flask>=0.8->flask-ngrok) (8.1.3)\n",
            "Requirement already satisfied: urllib3<1.27,>=1.21.1 in /usr/local/lib/python3.10/dist-packages (from requests->flask-ngrok) (1.26.16)\n",
            "Requirement already satisfied: certifi>=2017.4.17 in /usr/local/lib/python3.10/dist-packages (from requests->flask-ngrok) (2023.5.7)\n",
            "Requirement already satisfied: charset-normalizer~=2.0.0 in /usr/local/lib/python3.10/dist-packages (from requests->flask-ngrok) (2.0.12)\n",
            "Requirement already satisfied: idna<4,>=2.5 in /usr/local/lib/python3.10/dist-packages (from requests->flask-ngrok) (3.4)\n",
            "Requirement already satisfied: MarkupSafe>=2.0 in /usr/local/lib/python3.10/dist-packages (from Jinja2>=3.0->Flask>=0.8->flask-ngrok) (2.1.3)\n",
            "Requirement already satisfied: pyngrok==4.1.1 in /usr/local/lib/python3.10/dist-packages (4.1.1)\n",
            "Requirement already satisfied: future in /usr/local/lib/python3.10/dist-packages (from pyngrok==4.1.1) (0.18.3)\n",
            "Requirement already satisfied: PyYAML in /usr/local/lib/python3.10/dist-packages (from pyngrok==4.1.1) (6.0)\n",
            "Requirement already satisfied: flask in /usr/local/lib/python3.10/dist-packages (2.2.5)\n",
            "Requirement already satisfied: Werkzeug>=2.2.2 in /usr/local/lib/python3.10/dist-packages (from flask) (2.3.6)\n",
            "Requirement already satisfied: Jinja2>=3.0 in /usr/local/lib/python3.10/dist-packages (from flask) (3.1.2)\n",
            "Requirement already satisfied: itsdangerous>=2.0 in /usr/local/lib/python3.10/dist-packages (from flask) (2.1.2)\n",
            "Requirement already satisfied: click>=8.0 in /usr/local/lib/python3.10/dist-packages (from flask) (8.1.3)\n",
            "Requirement already satisfied: MarkupSafe>=2.0 in /usr/local/lib/python3.10/dist-packages (from Jinja2>=3.0->flask) (2.1.3)\n"
          ]
        }
      ]
    },
    {
      "cell_type": "markdown",
      "metadata": {
        "id": "_LBX_JyBABzG"
      },
      "source": [
        "# **Import Library**"
      ]
    },
    {
      "cell_type": "code",
      "metadata": {
        "id": "DtpR6O_l_ogB"
      },
      "source": [
        "import flask\n",
        "from IPython import get_ipython"
      ],
      "execution_count": null,
      "outputs": []
    },
    {
      "cell_type": "markdown",
      "metadata": {
        "id": "PXbqEmLnAw7E"
      },
      "source": [
        "# **Download ngrok and extract it**"
      ]
    },
    {
      "cell_type": "code",
      "metadata": {
        "id": "U5JI0GVHAuVZ"
      },
      "source": [
        "#!wget https://bin.equinox.io/c/4VmDzA7iaHb/ngrok-stable-linux-amd64.zip\n",
        "#!unzip -o ngrok-stable-linux-amd64.zip"
      ],
      "execution_count": null,
      "outputs": []
    },
    {
      "cell_type": "markdown",
      "metadata": {
        "id": "r6_nu6nUA8L8"
      },
      "source": [
        "# **Run the services**"
      ]
    },
    {
      "cell_type": "code",
      "metadata": {
        "id": "MjrLWlOjBO7e"
      },
      "source": [
        "#get_ipython().system_raw('python3 app.py &')"
      ],
      "execution_count": null,
      "outputs": []
    },
    {
      "cell_type": "code",
      "metadata": {
        "id": "LubrQoemBQip"
      },
      "source": [
        "get_ipython().system_raw('./ngrok http 5000 &')\n",
        "#get_ipython().system_raw('./ngrok http 5001 &')"
      ],
      "execution_count": null,
      "outputs": []
    },
    {
      "cell_type": "markdown",
      "metadata": {
        "id": "KUjcWgFKBWtn"
      },
      "source": [
        "# **Show the ngrok tunnel IP**"
      ]
    },
    {
      "cell_type": "code",
      "metadata": {
        "id": "IVG-gFZZBaRk",
        "colab": {
          "base_uri": "https://localhost:8080/"
        },
        "outputId": "74f131c3-0dc7-4602-c790-62ae34c61e25"
      },
      "source": [
        "#!ngrok update\n",
        "!ngrok authtoken 2SEvba6iXg6oqtybRRvdjI9U7Ea_6eQTNTscrvkmvc9cZ4hBs\n",
        "#!ngrok config add-authtoken 2SEvba6iXg6oqtybRRvdjI9U7Ea_6eQTNTscrvkmvc9cZ4hBs\n",
        "!export FLASK_RUN_PORT=5000\n",
        "import sys\n",
        "print(sys.stdin)\n",
        "!python app.py &\n",
        "#! curl -s http://localhost:4040/api/tunnels | python3 -c \\\n",
        "#    \"import sys, json; print(json.load(sys.stdin))\"\n",
        "! curl -s http://localhost:4040/api/tunnels | python3 -c \\\n",
        "    \"import sys, json; print(json.load(sys.stdin)['tunnels'][0]['public_url'])\"\n",
        "\n",
        "\n",
        "''' app.py\n",
        "# flask_ngrok_example.py\n",
        "from flask import Flask\n",
        "from flask_ngrok import run_with_ngrok\n",
        "\n",
        "app = Flask(__name__)\n",
        "run_with_ngrok(app)  # Start ngrok when app is run\n",
        "\n",
        "@app.route(\"/\")\n",
        "def hello():\n",
        "    return \"Hello World!\"\n",
        "\n",
        "if __name__ == '__main__':\n",
        "    app.run()\n",
        "'''\n",
        "\n",
        "\n"
      ],
      "execution_count": null,
      "outputs": [
        {
          "output_type": "stream",
          "name": "stdout",
          "text": [
            "Authtoken saved to configuration file: /root/.ngrok2/ngrok.yml\n",
            "<_io.TextIOWrapper name='<stdin>' mode='r' encoding='utf-8'>\n",
            " * Serving Flask app 'app'\n",
            " * Debug mode: off\n",
            "Address already in use\n",
            "Port 5000 is in use by another program. Either identify and stop that program, or start the server with a different port.\n",
            "{'tunnels': [{'name': 'command_line', 'uri': '/api/tunnels/command_line', 'public_url': 'https://5403-34-85-247-193.ngrok-free.app', 'proto': 'https', 'config': {'addr': 'http://localhost:5000', 'inspect': True}, 'metrics': {'conns': {'count': 0, 'gauge': 0, 'rate1': 0, 'rate5': 0, 'rate15': 0, 'p50': 0, 'p90': 0, 'p95': 0, 'p99': 0}, 'http': {'count': 0, 'rate1': 0, 'rate5': 0, 'rate15': 0, 'p50': 0, 'p90': 0, 'p95': 0, 'p99': 0}}}, {'name': 'command_line (http)', 'uri': '/api/tunnels/command_line%20%28http%29', 'public_url': 'http://5403-34-85-247-193.ngrok-free.app', 'proto': 'http', 'config': {'addr': 'http://localhost:5000', 'inspect': True}, 'metrics': {'conns': {'count': 0, 'gauge': 0, 'rate1': 0, 'rate5': 0, 'rate15': 0, 'p50': 0, 'p90': 0, 'p95': 0, 'p99': 0}, 'http': {'count': 0, 'rate1': 0, 'rate5': 0, 'rate15': 0, 'p50': 0, 'p90': 0, 'p95': 0, 'p99': 0}}}], 'uri': '/api/tunnels'}\n",
            "https://5403-34-85-247-193.ngrok-free.app\n"
          ]
        }
      ]
    },
    {
      "cell_type": "code",
      "source": [
        "!ps\n",
        "#!kill -9 2551; kill -9 2572; kill -9 3593;\n",
        "!kill -9 60; kill -9 12707; kill -9 12714;\n"
      ],
      "metadata": {
        "id": "3IUYvH_EzY3G",
        "outputId": "3a376663-dd25-494e-a7e0-be9556d850ec",
        "colab": {
          "base_uri": "https://localhost:8080/"
        }
      },
      "execution_count": null,
      "outputs": [
        {
          "output_type": "stream",
          "name": "stdout",
          "text": [
            "    PID TTY          TIME CMD\n",
            "      1 ?        00:00:00 docker-init\n",
            "      6 ?        00:00:08 node\n",
            "     18 ?        00:00:00 tail\n",
            "     29 ?        00:00:01 oom_monitor.sh\n",
            "     31 ?        00:00:00 run.sh\n",
            "     33 ?        00:00:01 kernel_manager_\n",
            "     60 ?        00:00:06 python3 <defunct>\n",
            "     61 ?        00:00:00 colab-fileshim.\n",
            "     78 ?        00:00:06 jupyter-noteboo\n",
            "     79 ?        00:00:02 dap_multiplexer\n",
            "  14322 ?        00:00:00 python3\n",
            "  14329 ?        00:00:00 ngrok <defunct>\n",
            "  15499 ?        00:00:01 python3\n",
            "  15520 ?        00:00:00 python3\n",
            "  15549 ?        00:00:00 language_servic\n",
            "  15561 ?        00:00:04 node\n",
            "  15639 ?        00:00:00 ngrok\n",
            "  15669 ?        00:00:00 sleep\n",
            "  15675 ?        00:00:00 ps\n",
            "/bin/bash: line 0: kill: (12707) - No such process\n",
            "/bin/bash: line 0: kill: (12714) - No such process\n"
          ]
        }
      ]
    }
  ]
}